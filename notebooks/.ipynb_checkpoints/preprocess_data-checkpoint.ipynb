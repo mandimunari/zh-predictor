{
 "cells": [
  {
   "cell_type": "code",
   "execution_count": 2,
   "id": "practical-celebrity",
   "metadata": {},
   "outputs": [],
   "source": [
    "# importando as bibliotecas\n",
    "\n",
    "import pandas as pd\n",
    "import numpy as np\n",
    "from sklearn.decomposition import PCA"
   ]
  },
  {
   "cell_type": "code",
   "execution_count": 3,
   "id": "sound-headset",
   "metadata": {},
   "outputs": [],
   "source": [
    "# lendo os dados crus\n",
    "\n",
    "raw_data1 = pd.read_csv(\"../data/raw/Planilha_1.csv\")\n",
    "raw_data2 = pd.read_csv(\"../data/raw/Planilha_2.csv\")\n"
   ]
  },
  {
   "cell_type": "code",
   "execution_count": 4,
   "id": "green-dietary",
   "metadata": {},
   "outputs": [],
   "source": [
    "# data merge\n",
    "\n",
    "data = pd.merge(raw_data1, raw_data2, on=\"ID\", how=\"outer\")"
   ]
  },
  {
   "cell_type": "code",
   "execution_count": 5,
   "id": "beginning-division",
   "metadata": {},
   "outputs": [],
   "source": [
    "# drop NAs\n",
    "\n",
    "data = data.dropna()"
   ]
  },
  {
   "cell_type": "code",
   "execution_count": 7,
   "id": "special-manhattan",
   "metadata": {},
   "outputs": [],
   "source": [
    "# transformando a coluna de data de nascimento em datetime\n",
    "\n",
    "data['PES_NASCIMENTO_DATA'] = pd.to_datetime(data['PES_NASCIMENTO_DATA'])"
   ]
  },
  {
   "cell_type": "code",
   "execution_count": 8,
   "id": "e4f19338",
   "metadata": {},
   "outputs": [],
   "source": [
    "data = pd.read_csv(\"../data/raw/data.csv\")"
   ]
  },
  {
   "cell_type": "markdown",
   "id": "nearby-nelson",
   "metadata": {},
   "source": [
    "## Explorando dataset "
   ]
  },
  {
   "cell_type": "code",
   "execution_count": 6,
   "id": "selective-classics",
   "metadata": {},
   "outputs": [
    {
     "data": {
      "text/plain": [
       "count    1381.000000\n",
       "mean        8.813903\n",
       "std        33.325113\n",
       "min         0.000000\n",
       "25%         0.000000\n",
       "50%         0.000000\n",
       "75%         5.000000\n",
       "max       894.000000\n",
       "Name: QT_TOTAL_HIT_PAYWALL, dtype: float64"
      ]
     },
     "execution_count": 6,
     "metadata": {},
     "output_type": "execute_result"
    }
   ],
   "source": [
    "# dados de HIT PAYWALL\n",
    "\n",
    "data[\"QT_TOTAL_HIT_PAYWALL\"].describe()"
   ]
  },
  {
   "cell_type": "code",
   "execution_count": 7,
   "id": "proper-collectible",
   "metadata": {},
   "outputs": [
    {
     "data": {
      "text/plain": [
       "count    1381.000000\n",
       "mean       14.459088\n",
       "std        17.229965\n",
       "min         0.000000\n",
       "25%         2.000000\n",
       "50%         6.000000\n",
       "75%        22.000000\n",
       "max        60.000000\n",
       "Name: DIASNAVEGADOS, dtype: float64"
      ]
     },
     "execution_count": 7,
     "metadata": {},
     "output_type": "execute_result"
    }
   ],
   "source": [
    "# dados de DIAS NAVEGADOS\n",
    "\n",
    "data[\"DIASNAVEGADOS\"].describe()"
   ]
  },
  {
   "cell_type": "code",
   "execution_count": 8,
   "id": "executive-adjustment",
   "metadata": {},
   "outputs": [
    {
     "data": {
      "text/plain": [
       "count    1381.000000\n",
       "mean       34.319334\n",
       "std       115.393197\n",
       "min         0.000000\n",
       "25%         0.000000\n",
       "50%         3.000000\n",
       "75%        12.000000\n",
       "max      1773.000000\n",
       "Name: NOTICIASLIDAS, dtype: float64"
      ]
     },
     "execution_count": 8,
     "metadata": {},
     "output_type": "execute_result"
    }
   ],
   "source": [
    "# dados de DIAS NAVEGADOS\n",
    "\n",
    "data[\"NOTICIASLIDAS\"].describe()"
   ]
  },
  {
   "cell_type": "code",
   "execution_count": 9,
   "id": "choice-trance",
   "metadata": {},
   "outputs": [
    {
     "data": {
      "text/plain": [
       "count    1381.000000\n",
       "mean       49.502534\n",
       "std       161.707123\n",
       "min         0.000000\n",
       "25%         0.000000\n",
       "50%         0.000000\n",
       "75%        16.000000\n",
       "max      2963.000000\n",
       "Name: VISITAS_CAPA, dtype: float64"
      ]
     },
     "execution_count": 9,
     "metadata": {},
     "output_type": "execute_result"
    }
   ],
   "source": [
    "# dados de VISITAS CAPA\n",
    " \n",
    "data[\"VISITAS_CAPA\"].describe()"
   ]
  },
  {
   "cell_type": "code",
   "execution_count": 10,
   "id": "floral-system",
   "metadata": {},
   "outputs": [
    {
     "data": {
      "text/plain": [
       "count    1381.000000\n",
       "mean       39.552614\n",
       "std        15.451064\n",
       "min        -4.490000\n",
       "25%        21.950000\n",
       "50%        38.070000\n",
       "75%        48.010000\n",
       "max        90.350000\n",
       "Name: IDADE, dtype: float64"
      ]
     },
     "execution_count": 10,
     "metadata": {},
     "output_type": "execute_result"
    }
   ],
   "source": [
    "# dados de IDADE\n",
    " \n",
    "data[\"IDADE\"].describe()\n"
   ]
  },
  {
   "cell_type": "markdown",
   "id": "d74191b3",
   "metadata": {},
   "source": [
    "### Entendendo a persona assinante GaúchaZH\n"
   ]
  },
  {
   "cell_type": "code",
   "execution_count": 9,
   "id": "fd710fdd",
   "metadata": {},
   "outputs": [
    {
     "data": {
      "text/html": [
       "<div>\n",
       "<style scoped>\n",
       "    .dataframe tbody tr th:only-of-type {\n",
       "        vertical-align: middle;\n",
       "    }\n",
       "\n",
       "    .dataframe tbody tr th {\n",
       "        vertical-align: top;\n",
       "    }\n",
       "\n",
       "    .dataframe thead th {\n",
       "        text-align: right;\n",
       "    }\n",
       "</style>\n",
       "<table border=\"1\" class=\"dataframe\">\n",
       "  <thead>\n",
       "    <tr style=\"text-align: right;\">\n",
       "      <th></th>\n",
       "      <th>ID</th>\n",
       "      <th>QT_TOTAL_HIT_PAYWALL</th>\n",
       "      <th>DIASNAVEGADOS</th>\n",
       "      <th>NOTICIASLIDAS</th>\n",
       "      <th>VISITAS_CAPA</th>\n",
       "      <th>USOU_APP</th>\n",
       "      <th>PERFIL</th>\n",
       "      <th>PES_NASCIMENTO_DATA</th>\n",
       "      <th>ATR_PF_GEO_RENDA_FAM</th>\n",
       "      <th>IDADE</th>\n",
       "    </tr>\n",
       "    <tr>\n",
       "      <th>PES_GENERO</th>\n",
       "      <th></th>\n",
       "      <th></th>\n",
       "      <th></th>\n",
       "      <th></th>\n",
       "      <th></th>\n",
       "      <th></th>\n",
       "      <th></th>\n",
       "      <th></th>\n",
       "      <th></th>\n",
       "      <th></th>\n",
       "    </tr>\n",
       "  </thead>\n",
       "  <tbody>\n",
       "    <tr>\n",
       "      <th>F</th>\n",
       "      <td>104</td>\n",
       "      <td>104</td>\n",
       "      <td>104</td>\n",
       "      <td>104</td>\n",
       "      <td>104</td>\n",
       "      <td>104</td>\n",
       "      <td>104</td>\n",
       "      <td>104</td>\n",
       "      <td>104</td>\n",
       "      <td>104</td>\n",
       "    </tr>\n",
       "    <tr>\n",
       "      <th>M</th>\n",
       "      <td>269</td>\n",
       "      <td>269</td>\n",
       "      <td>269</td>\n",
       "      <td>269</td>\n",
       "      <td>269</td>\n",
       "      <td>269</td>\n",
       "      <td>269</td>\n",
       "      <td>269</td>\n",
       "      <td>269</td>\n",
       "      <td>269</td>\n",
       "    </tr>\n",
       "  </tbody>\n",
       "</table>\n",
       "</div>"
      ],
      "text/plain": [
       "             ID  QT_TOTAL_HIT_PAYWALL  DIASNAVEGADOS  NOTICIASLIDAS  \\\n",
       "PES_GENERO                                                            \n",
       "F           104                   104            104            104   \n",
       "M           269                   269            269            269   \n",
       "\n",
       "            VISITAS_CAPA  USOU_APP  PERFIL  PES_NASCIMENTO_DATA  \\\n",
       "PES_GENERO                                                        \n",
       "F                    104       104     104                  104   \n",
       "M                    269       269     269                  269   \n",
       "\n",
       "            ATR_PF_GEO_RENDA_FAM  IDADE  \n",
       "PES_GENERO                               \n",
       "F                            104    104  \n",
       "M                            269    269  "
      ]
     },
     "execution_count": 9,
     "metadata": {},
     "output_type": "execute_result"
    }
   ],
   "source": [
    "# Agrupando por gênero\n",
    "\n",
    "data_assinante = data.loc[(data['PERFIL'] == 'ASSINANTE')] \n",
    "group_count = data_assinante.groupby('PES_GENERO').count()\n",
    "group_count"
   ]
  },
  {
   "cell_type": "code",
   "execution_count": 147,
   "id": "ab01933b",
   "metadata": {},
   "outputs": [
    {
     "data": {
      "text/html": [
       "<div>\n",
       "<style scoped>\n",
       "    .dataframe tbody tr th:only-of-type {\n",
       "        vertical-align: middle;\n",
       "    }\n",
       "\n",
       "    .dataframe tbody tr th {\n",
       "        vertical-align: top;\n",
       "    }\n",
       "\n",
       "    .dataframe thead th {\n",
       "        text-align: right;\n",
       "    }\n",
       "</style>\n",
       "<table border=\"1\" class=\"dataframe\">\n",
       "  <thead>\n",
       "    <tr style=\"text-align: right;\">\n",
       "      <th></th>\n",
       "      <th>ID</th>\n",
       "      <th>QT_TOTAL_HIT_PAYWALL</th>\n",
       "      <th>DIASNAVEGADOS</th>\n",
       "      <th>NOTICIASLIDAS</th>\n",
       "      <th>VISITAS_CAPA</th>\n",
       "      <th>IDADE</th>\n",
       "    </tr>\n",
       "    <tr>\n",
       "      <th>PES_GENERO</th>\n",
       "      <th></th>\n",
       "      <th></th>\n",
       "      <th></th>\n",
       "      <th></th>\n",
       "      <th></th>\n",
       "      <th></th>\n",
       "    </tr>\n",
       "  </thead>\n",
       "  <tbody>\n",
       "    <tr>\n",
       "      <th>F</th>\n",
       "      <td>1892.884615</td>\n",
       "      <td>4.394231</td>\n",
       "      <td>7.759615</td>\n",
       "      <td>18.096154</td>\n",
       "      <td>20.798077</td>\n",
       "      <td>24.035481</td>\n",
       "    </tr>\n",
       "    <tr>\n",
       "      <th>M</th>\n",
       "      <td>1925.520446</td>\n",
       "      <td>11.710037</td>\n",
       "      <td>13.018587</td>\n",
       "      <td>25.118959</td>\n",
       "      <td>52.594796</td>\n",
       "      <td>25.626171</td>\n",
       "    </tr>\n",
       "  </tbody>\n",
       "</table>\n",
       "</div>"
      ],
      "text/plain": [
       "                     ID  QT_TOTAL_HIT_PAYWALL  DIASNAVEGADOS  NOTICIASLIDAS  \\\n",
       "PES_GENERO                                                                    \n",
       "F           1892.884615              4.394231       7.759615      18.096154   \n",
       "M           1925.520446             11.710037      13.018587      25.118959   \n",
       "\n",
       "            VISITAS_CAPA      IDADE  \n",
       "PES_GENERO                           \n",
       "F              20.798077  24.035481  \n",
       "M              52.594796  25.626171  "
      ]
     },
     "execution_count": 147,
     "metadata": {},
     "output_type": "execute_result"
    }
   ],
   "source": [
    "# Agrupando por gênero e fazendo média das variáveis númericas\n",
    "\n",
    "data_grouped = data_assinante.groupby('PES_GENERO').mean()\n",
    "data_grouped"
   ]
  },
  {
   "cell_type": "code",
   "execution_count": 10,
   "id": "cbcb4d63",
   "metadata": {},
   "outputs": [
    {
     "data": {
      "text/html": [
       "<div>\n",
       "<style scoped>\n",
       "    .dataframe tbody tr th:only-of-type {\n",
       "        vertical-align: middle;\n",
       "    }\n",
       "\n",
       "    .dataframe tbody tr th {\n",
       "        vertical-align: top;\n",
       "    }\n",
       "\n",
       "    .dataframe thead th {\n",
       "        text-align: right;\n",
       "    }\n",
       "</style>\n",
       "<table border=\"1\" class=\"dataframe\">\n",
       "  <thead>\n",
       "    <tr style=\"text-align: right;\">\n",
       "      <th></th>\n",
       "      <th>ID</th>\n",
       "      <th>QT_TOTAL_HIT_PAYWALL</th>\n",
       "      <th>DIASNAVEGADOS</th>\n",
       "      <th>NOTICIASLIDAS</th>\n",
       "      <th>VISITAS_CAPA</th>\n",
       "      <th>USOU_APP</th>\n",
       "      <th>PERFIL</th>\n",
       "      <th>PES_GENERO</th>\n",
       "      <th>PES_NASCIMENTO_DATA</th>\n",
       "      <th>IDADE</th>\n",
       "    </tr>\n",
       "    <tr>\n",
       "      <th>ATR_PF_GEO_RENDA_FAM</th>\n",
       "      <th></th>\n",
       "      <th></th>\n",
       "      <th></th>\n",
       "      <th></th>\n",
       "      <th></th>\n",
       "      <th></th>\n",
       "      <th></th>\n",
       "      <th></th>\n",
       "      <th></th>\n",
       "      <th></th>\n",
       "    </tr>\n",
       "  </thead>\n",
       "  <tbody>\n",
       "    <tr>\n",
       "      <th>ACIMA DE 25SM</th>\n",
       "      <td>5</td>\n",
       "      <td>5</td>\n",
       "      <td>5</td>\n",
       "      <td>5</td>\n",
       "      <td>5</td>\n",
       "      <td>5</td>\n",
       "      <td>5</td>\n",
       "      <td>5</td>\n",
       "      <td>5</td>\n",
       "      <td>5</td>\n",
       "    </tr>\n",
       "    <tr>\n",
       "      <th>DE 14SM ATE 25SM</th>\n",
       "      <td>7</td>\n",
       "      <td>7</td>\n",
       "      <td>7</td>\n",
       "      <td>7</td>\n",
       "      <td>7</td>\n",
       "      <td>7</td>\n",
       "      <td>7</td>\n",
       "      <td>7</td>\n",
       "      <td>7</td>\n",
       "      <td>7</td>\n",
       "    </tr>\n",
       "    <tr>\n",
       "      <th>DE 3SM ATE 4SM</th>\n",
       "      <td>30</td>\n",
       "      <td>30</td>\n",
       "      <td>30</td>\n",
       "      <td>30</td>\n",
       "      <td>30</td>\n",
       "      <td>30</td>\n",
       "      <td>30</td>\n",
       "      <td>30</td>\n",
       "      <td>30</td>\n",
       "      <td>30</td>\n",
       "    </tr>\n",
       "    <tr>\n",
       "      <th>DE 4SM ATE 8SM</th>\n",
       "      <td>37</td>\n",
       "      <td>37</td>\n",
       "      <td>37</td>\n",
       "      <td>37</td>\n",
       "      <td>37</td>\n",
       "      <td>37</td>\n",
       "      <td>37</td>\n",
       "      <td>37</td>\n",
       "      <td>37</td>\n",
       "      <td>37</td>\n",
       "    </tr>\n",
       "    <tr>\n",
       "      <th>DE 8SM ATE 14SM</th>\n",
       "      <td>25</td>\n",
       "      <td>25</td>\n",
       "      <td>25</td>\n",
       "      <td>25</td>\n",
       "      <td>25</td>\n",
       "      <td>25</td>\n",
       "      <td>25</td>\n",
       "      <td>25</td>\n",
       "      <td>25</td>\n",
       "      <td>25</td>\n",
       "    </tr>\n",
       "  </tbody>\n",
       "</table>\n",
       "</div>"
      ],
      "text/plain": [
       "                      ID  QT_TOTAL_HIT_PAYWALL  DIASNAVEGADOS  NOTICIASLIDAS  \\\n",
       "ATR_PF_GEO_RENDA_FAM                                                           \n",
       "ACIMA DE 25SM          5                     5              5              5   \n",
       "DE 14SM ATE 25SM       7                     7              7              7   \n",
       "DE 3SM ATE 4SM        30                    30             30             30   \n",
       "DE 4SM ATE 8SM        37                    37             37             37   \n",
       "DE 8SM ATE 14SM       25                    25             25             25   \n",
       "\n",
       "                      VISITAS_CAPA  USOU_APP  PERFIL  PES_GENERO  \\\n",
       "ATR_PF_GEO_RENDA_FAM                                               \n",
       "ACIMA DE 25SM                    5         5       5           5   \n",
       "DE 14SM ATE 25SM                 7         7       7           7   \n",
       "DE 3SM ATE 4SM                  30        30      30          30   \n",
       "DE 4SM ATE 8SM                  37        37      37          37   \n",
       "DE 8SM ATE 14SM                 25        25      25          25   \n",
       "\n",
       "                      PES_NASCIMENTO_DATA  IDADE  \n",
       "ATR_PF_GEO_RENDA_FAM                              \n",
       "ACIMA DE 25SM                           5      5  \n",
       "DE 14SM ATE 25SM                        7      7  \n",
       "DE 3SM ATE 4SM                         30     30  \n",
       "DE 4SM ATE 8SM                         37     37  \n",
       "DE 8SM ATE 14SM                        25     25  "
      ]
     },
     "execution_count": 10,
     "metadata": {},
     "output_type": "execute_result"
    }
   ],
   "source": [
    "# Agrupando por renda gênero feminino\n",
    "\n",
    "data_assinante_f = data_assinante.loc[(data['PES_GENERO'] == 'F')] \n",
    "data_assinante_f_renda = data_assinante_f.groupby('ATR_PF_GEO_RENDA_FAM').count()\n",
    "data_assinante_f_renda"
   ]
  },
  {
   "cell_type": "code",
   "execution_count": 11,
   "id": "1f9891bd",
   "metadata": {},
   "outputs": [
    {
     "data": {
      "text/html": [
       "<div>\n",
       "<style scoped>\n",
       "    .dataframe tbody tr th:only-of-type {\n",
       "        vertical-align: middle;\n",
       "    }\n",
       "\n",
       "    .dataframe tbody tr th {\n",
       "        vertical-align: top;\n",
       "    }\n",
       "\n",
       "    .dataframe thead th {\n",
       "        text-align: right;\n",
       "    }\n",
       "</style>\n",
       "<table border=\"1\" class=\"dataframe\">\n",
       "  <thead>\n",
       "    <tr style=\"text-align: right;\">\n",
       "      <th></th>\n",
       "      <th>ID</th>\n",
       "      <th>QT_TOTAL_HIT_PAYWALL</th>\n",
       "      <th>DIASNAVEGADOS</th>\n",
       "      <th>NOTICIASLIDAS</th>\n",
       "      <th>VISITAS_CAPA</th>\n",
       "      <th>USOU_APP</th>\n",
       "      <th>PERFIL</th>\n",
       "      <th>PES_GENERO</th>\n",
       "      <th>PES_NASCIMENTO_DATA</th>\n",
       "      <th>IDADE</th>\n",
       "    </tr>\n",
       "    <tr>\n",
       "      <th>ATR_PF_GEO_RENDA_FAM</th>\n",
       "      <th></th>\n",
       "      <th></th>\n",
       "      <th></th>\n",
       "      <th></th>\n",
       "      <th></th>\n",
       "      <th></th>\n",
       "      <th></th>\n",
       "      <th></th>\n",
       "      <th></th>\n",
       "      <th></th>\n",
       "    </tr>\n",
       "  </thead>\n",
       "  <tbody>\n",
       "    <tr>\n",
       "      <th>ACIMA DE 25SM</th>\n",
       "      <td>8</td>\n",
       "      <td>8</td>\n",
       "      <td>8</td>\n",
       "      <td>8</td>\n",
       "      <td>8</td>\n",
       "      <td>8</td>\n",
       "      <td>8</td>\n",
       "      <td>8</td>\n",
       "      <td>8</td>\n",
       "      <td>8</td>\n",
       "    </tr>\n",
       "    <tr>\n",
       "      <th>DE 14SM ATE 25SM</th>\n",
       "      <td>18</td>\n",
       "      <td>18</td>\n",
       "      <td>18</td>\n",
       "      <td>18</td>\n",
       "      <td>18</td>\n",
       "      <td>18</td>\n",
       "      <td>18</td>\n",
       "      <td>18</td>\n",
       "      <td>18</td>\n",
       "      <td>18</td>\n",
       "    </tr>\n",
       "    <tr>\n",
       "      <th>DE 2SM ATE 3SM</th>\n",
       "      <td>4</td>\n",
       "      <td>4</td>\n",
       "      <td>4</td>\n",
       "      <td>4</td>\n",
       "      <td>4</td>\n",
       "      <td>4</td>\n",
       "      <td>4</td>\n",
       "      <td>4</td>\n",
       "      <td>4</td>\n",
       "      <td>4</td>\n",
       "    </tr>\n",
       "    <tr>\n",
       "      <th>DE 3SM ATE 4SM</th>\n",
       "      <td>91</td>\n",
       "      <td>91</td>\n",
       "      <td>91</td>\n",
       "      <td>91</td>\n",
       "      <td>91</td>\n",
       "      <td>91</td>\n",
       "      <td>91</td>\n",
       "      <td>91</td>\n",
       "      <td>91</td>\n",
       "      <td>91</td>\n",
       "    </tr>\n",
       "    <tr>\n",
       "      <th>DE 4SM ATE 8SM</th>\n",
       "      <td>82</td>\n",
       "      <td>82</td>\n",
       "      <td>82</td>\n",
       "      <td>82</td>\n",
       "      <td>82</td>\n",
       "      <td>82</td>\n",
       "      <td>82</td>\n",
       "      <td>82</td>\n",
       "      <td>82</td>\n",
       "      <td>82</td>\n",
       "    </tr>\n",
       "    <tr>\n",
       "      <th>DE 8SM ATE 14SM</th>\n",
       "      <td>66</td>\n",
       "      <td>66</td>\n",
       "      <td>66</td>\n",
       "      <td>66</td>\n",
       "      <td>66</td>\n",
       "      <td>66</td>\n",
       "      <td>66</td>\n",
       "      <td>66</td>\n",
       "      <td>66</td>\n",
       "      <td>66</td>\n",
       "    </tr>\n",
       "  </tbody>\n",
       "</table>\n",
       "</div>"
      ],
      "text/plain": [
       "                      ID  QT_TOTAL_HIT_PAYWALL  DIASNAVEGADOS  NOTICIASLIDAS  \\\n",
       "ATR_PF_GEO_RENDA_FAM                                                           \n",
       "ACIMA DE 25SM          8                     8              8              8   \n",
       "DE 14SM ATE 25SM      18                    18             18             18   \n",
       "DE 2SM ATE 3SM         4                     4              4              4   \n",
       "DE 3SM ATE 4SM        91                    91             91             91   \n",
       "DE 4SM ATE 8SM        82                    82             82             82   \n",
       "DE 8SM ATE 14SM       66                    66             66             66   \n",
       "\n",
       "                      VISITAS_CAPA  USOU_APP  PERFIL  PES_GENERO  \\\n",
       "ATR_PF_GEO_RENDA_FAM                                               \n",
       "ACIMA DE 25SM                    8         8       8           8   \n",
       "DE 14SM ATE 25SM                18        18      18          18   \n",
       "DE 2SM ATE 3SM                   4         4       4           4   \n",
       "DE 3SM ATE 4SM                  91        91      91          91   \n",
       "DE 4SM ATE 8SM                  82        82      82          82   \n",
       "DE 8SM ATE 14SM                 66        66      66          66   \n",
       "\n",
       "                      PES_NASCIMENTO_DATA  IDADE  \n",
       "ATR_PF_GEO_RENDA_FAM                              \n",
       "ACIMA DE 25SM                           8      8  \n",
       "DE 14SM ATE 25SM                       18     18  \n",
       "DE 2SM ATE 3SM                          4      4  \n",
       "DE 3SM ATE 4SM                         91     91  \n",
       "DE 4SM ATE 8SM                         82     82  \n",
       "DE 8SM ATE 14SM                        66     66  "
      ]
     },
     "execution_count": 11,
     "metadata": {},
     "output_type": "execute_result"
    }
   ],
   "source": [
    "# Agrupando por renda gênero masculino\n",
    "\n",
    "data_assinante_m = data_assinante.loc[(data['PES_GENERO'] == 'M')] \n",
    "data_assinante_m_renda = data_assinante_m.groupby('ATR_PF_GEO_RENDA_FAM').count()\n",
    "data_assinante_m_renda"
   ]
  },
  {
   "cell_type": "markdown",
   "id": "3fc5aa45",
   "metadata": {},
   "source": [
    "### Entendo dataset"
   ]
  },
  {
   "cell_type": "code",
   "execution_count": 159,
   "id": "3a2ca3b6",
   "metadata": {},
   "outputs": [
    {
     "data": {
      "image/png": "[encoded data removed]",
      "text/plain": [
       "<Figure size 576x576 with 6 Axes>"
      ]
     },
     "metadata": {
      "needs_background": "light"
     },
     "output_type": "display_data"
    }
   ],
   "source": [
    "# Estabelecendo o tamanho dos graficos que serão usados neste notebook.\n",
    "plt.rcParams['figure.figsize'] = [8, 8]\n",
    "\n",
    "# Olhando o histograma das variáveis quantitativas.\n",
    "data.hist(bins=20);\n",
    "plt.show()"
   ]
  },
  {
   "cell_type": "markdown",
   "id": "9cd331a3",
   "metadata": {},
   "source": [
    "## Pré-processamento dos dados"
   ]
  },
  {
   "cell_type": "code",
   "execution_count": 63,
   "id": "2dace290",
   "metadata": {},
   "outputs": [],
   "source": [
    "# replace Não para 0 e SIM para 1\n",
    "\n",
    "data[\"USOU_APP\"] = data[\"USOU_APP\"].replace('NAO',0)\n",
    "data[\"USOU_APP\"] = data[\"USOU_APP\"].replace('SIM',1)\n",
    "data[\"USOU_APP\"] = data[\"USOU_APP\"].astype(bool)"
   ]
  },
  {
   "cell_type": "code",
   "execution_count": 12,
   "id": "8fa7ecda",
   "metadata": {},
   "outputs": [],
   "source": [
    "# filtrando os dados para pessoas com idade maior que 18 anos\n",
    "\n",
    "data = data.loc[(data['IDADE'] >= 18)] "
   ]
  },
  {
   "cell_type": "code",
   "execution_count": 117,
   "id": "2bd5a15d",
   "metadata": {},
   "outputs": [],
   "source": [
    "# replace M para 0 e F para 1\n",
    "\n",
    "data[\"PES_GENERO\"] = data[\"PES_GENERO\"].replace('M',0)\n",
    "data[\"PES_GENERO\"] = data[\"PES_GENERO\"].replace('F',1)\n",
    "data[\"PES_GENERO\"] = data[\"PES_GENERO\"].astype(bool)"
   ]
  },
  {
   "cell_type": "code",
   "execution_count": 126,
   "id": "993fde7f",
   "metadata": {},
   "outputs": [
    {
     "name": "stderr",
     "output_type": "stream",
     "text": [
      "/tmp/ipykernel_31110/963707196.py:3: SettingWithCopyWarning: \n",
      "A value is trying to be set on a copy of a slice from a DataFrame.\n",
      "Try using .loc[row_indexer,col_indexer] = value instead\n",
      "\n",
      "See the caveats in the documentation: https://pandas.pydata.org/pandas-docs/stable/user_guide/indexing.html#returning-a-view-versus-a-copy\n",
      "  data[\"ATR_PF_GEO_RENDA_FAM\"] = data[\"ATR_PF_GEO_RENDA_FAM\"].replace('ATE 1SM', 1)\n",
      "/tmp/ipykernel_31110/963707196.py:4: SettingWithCopyWarning: \n",
      "A value is trying to be set on a copy of a slice from a DataFrame.\n",
      "Try using .loc[row_indexer,col_indexer] = value instead\n",
      "\n",
      "See the caveats in the documentation: https://pandas.pydata.org/pandas-docs/stable/user_guide/indexing.html#returning-a-view-versus-a-copy\n",
      "  data[\"ATR_PF_GEO_RENDA_FAM\"] = data[\"ATR_PF_GEO_RENDA_FAM\"].replace('DE 2SM ATE 3SM', 2)\n",
      "/tmp/ipykernel_31110/963707196.py:5: SettingWithCopyWarning: \n",
      "A value is trying to be set on a copy of a slice from a DataFrame.\n",
      "Try using .loc[row_indexer,col_indexer] = value instead\n",
      "\n",
      "See the caveats in the documentation: https://pandas.pydata.org/pandas-docs/stable/user_guide/indexing.html#returning-a-view-versus-a-copy\n",
      "  data[\"ATR_PF_GEO_RENDA_FAM\"] = data[\"ATR_PF_GEO_RENDA_FAM\"].replace('DE 3SM ATE 4SM', 3)\n",
      "/tmp/ipykernel_31110/963707196.py:6: SettingWithCopyWarning: \n",
      "A value is trying to be set on a copy of a slice from a DataFrame.\n",
      "Try using .loc[row_indexer,col_indexer] = value instead\n",
      "\n",
      "See the caveats in the documentation: https://pandas.pydata.org/pandas-docs/stable/user_guide/indexing.html#returning-a-view-versus-a-copy\n",
      "  data[\"ATR_PF_GEO_RENDA_FAM\"] = data[\"ATR_PF_GEO_RENDA_FAM\"].replace('DE 4SM ATE 8SM', 4)\n",
      "/tmp/ipykernel_31110/963707196.py:7: SettingWithCopyWarning: \n",
      "A value is trying to be set on a copy of a slice from a DataFrame.\n",
      "Try using .loc[row_indexer,col_indexer] = value instead\n",
      "\n",
      "See the caveats in the documentation: https://pandas.pydata.org/pandas-docs/stable/user_guide/indexing.html#returning-a-view-versus-a-copy\n",
      "  data[\"ATR_PF_GEO_RENDA_FAM\"] = data[\"ATR_PF_GEO_RENDA_FAM\"].replace('DE 8SM ATE 14SM', 5)\n",
      "/tmp/ipykernel_31110/963707196.py:8: SettingWithCopyWarning: \n",
      "A value is trying to be set on a copy of a slice from a DataFrame.\n",
      "Try using .loc[row_indexer,col_indexer] = value instead\n",
      "\n",
      "See the caveats in the documentation: https://pandas.pydata.org/pandas-docs/stable/user_guide/indexing.html#returning-a-view-versus-a-copy\n",
      "  data[\"ATR_PF_GEO_RENDA_FAM\"] = data[\"ATR_PF_GEO_RENDA_FAM\"].replace('DE 14SM ATE 25SM', 6)\n",
      "/tmp/ipykernel_31110/963707196.py:9: SettingWithCopyWarning: \n",
      "A value is trying to be set on a copy of a slice from a DataFrame.\n",
      "Try using .loc[row_indexer,col_indexer] = value instead\n",
      "\n",
      "See the caveats in the documentation: https://pandas.pydata.org/pandas-docs/stable/user_guide/indexing.html#returning-a-view-versus-a-copy\n",
      "  data[\"ATR_PF_GEO_RENDA_FAM\"] = data[\"ATR_PF_GEO_RENDA_FAM\"].replace('ACIMA DE 25SM', 7)\n",
      "/tmp/ipykernel_31110/963707196.py:11: SettingWithCopyWarning: \n",
      "A value is trying to be set on a copy of a slice from a DataFrame.\n",
      "Try using .loc[row_indexer,col_indexer] = value instead\n",
      "\n",
      "See the caveats in the documentation: https://pandas.pydata.org/pandas-docs/stable/user_guide/indexing.html#returning-a-view-versus-a-copy\n",
      "  data[\"ATR_PF_GEO_RENDA_FAM\"] = data[\"ATR_PF_GEO_RENDA_FAM\"].astype(int)\n"
     ]
    }
   ],
   "source": [
    "# replace das rendas\n",
    "\n",
    "data[\"ATR_PF_GEO_RENDA_FAM\"] = data[\"ATR_PF_GEO_RENDA_FAM\"].replace('ATE 1SM', 1)\n",
    "data[\"ATR_PF_GEO_RENDA_FAM\"] = data[\"ATR_PF_GEO_RENDA_FAM\"].replace('DE 2SM ATE 3SM', 2)\n",
    "data[\"ATR_PF_GEO_RENDA_FAM\"] = data[\"ATR_PF_GEO_RENDA_FAM\"].replace('DE 3SM ATE 4SM', 3)\n",
    "data[\"ATR_PF_GEO_RENDA_FAM\"] = data[\"ATR_PF_GEO_RENDA_FAM\"].replace('DE 4SM ATE 8SM', 4)\n",
    "data[\"ATR_PF_GEO_RENDA_FAM\"] = data[\"ATR_PF_GEO_RENDA_FAM\"].replace('DE 8SM ATE 14SM', 5)\n",
    "data[\"ATR_PF_GEO_RENDA_FAM\"] = data[\"ATR_PF_GEO_RENDA_FAM\"].replace('DE 14SM ATE 25SM', 6)\n",
    "data[\"ATR_PF_GEO_RENDA_FAM\"] = data[\"ATR_PF_GEO_RENDA_FAM\"].replace('ACIMA DE 25SM', 7)\n",
    "\n",
    "data[\"ATR_PF_GEO_RENDA_FAM\"] = data[\"ATR_PF_GEO_RENDA_FAM\"].astype(int)"
   ]
  },
  {
   "cell_type": "code",
   "execution_count": 130,
   "id": "890091f4",
   "metadata": {},
   "outputs": [
    {
     "name": "stderr",
     "output_type": "stream",
     "text": [
      "/tmp/ipykernel_31110/3571414316.py:3: SettingWithCopyWarning: \n",
      "A value is trying to be set on a copy of a slice from a DataFrame.\n",
      "Try using .loc[row_indexer,col_indexer] = value instead\n",
      "\n",
      "See the caveats in the documentation: https://pandas.pydata.org/pandas-docs/stable/user_guide/indexing.html#returning-a-view-versus-a-copy\n",
      "  data[\"PERFIL\"] = data[\"PERFIL\"].replace('PROSPECT',0)\n",
      "/tmp/ipykernel_31110/3571414316.py:4: SettingWithCopyWarning: \n",
      "A value is trying to be set on a copy of a slice from a DataFrame.\n",
      "Try using .loc[row_indexer,col_indexer] = value instead\n",
      "\n",
      "See the caveats in the documentation: https://pandas.pydata.org/pandas-docs/stable/user_guide/indexing.html#returning-a-view-versus-a-copy\n",
      "  data[\"PERFIL\"] = data[\"PERFIL\"].replace('ASSINANTE',1)\n",
      "/tmp/ipykernel_31110/3571414316.py:5: SettingWithCopyWarning: \n",
      "A value is trying to be set on a copy of a slice from a DataFrame.\n",
      "Try using .loc[row_indexer,col_indexer] = value instead\n",
      "\n",
      "See the caveats in the documentation: https://pandas.pydata.org/pandas-docs/stable/user_guide/indexing.html#returning-a-view-versus-a-copy\n",
      "  data[\"PERFIL\"] = data[\"PERFIL\"].astype(bool)\n"
     ]
    }
   ],
   "source": [
    "# replace ASSINANTE para 1 e PROSPECT para 0\n",
    "\n",
    "data[\"PERFIL\"] = data[\"PERFIL\"].replace('PROSPECT',0)\n",
    "data[\"PERFIL\"] = data[\"PERFIL\"].replace('ASSINANTE',1)\n",
    "data[\"PERFIL\"] = data[\"PERFIL\"].astype(bool)"
   ]
  },
  {
   "cell_type": "code",
   "execution_count": 103,
   "id": "9ebe2780",
   "metadata": {},
   "outputs": [
    {
     "data": {
      "text/html": [
       "<div>\n",
       "<style scoped>\n",
       "    .dataframe tbody tr th:only-of-type {\n",
       "        vertical-align: middle;\n",
       "    }\n",
       "\n",
       "    .dataframe tbody tr th {\n",
       "        vertical-align: top;\n",
       "    }\n",
       "\n",
       "    .dataframe thead th {\n",
       "        text-align: right;\n",
       "    }\n",
       "</style>\n",
       "<table border=\"1\" class=\"dataframe\">\n",
       "  <thead>\n",
       "    <tr style=\"text-align: right;\">\n",
       "      <th></th>\n",
       "      <th>QT_TOTAL_HIT_PAYWALL</th>\n",
       "      <th>DIASNAVEGADOS</th>\n",
       "      <th>NOTICIASLIDAS</th>\n",
       "      <th>VISITAS_CAPA</th>\n",
       "      <th>USOU_APP</th>\n",
       "      <th>IDADE</th>\n",
       "    </tr>\n",
       "    <tr>\n",
       "      <th>PERFIL</th>\n",
       "      <th></th>\n",
       "      <th></th>\n",
       "      <th></th>\n",
       "      <th></th>\n",
       "      <th></th>\n",
       "      <th></th>\n",
       "    </tr>\n",
       "  </thead>\n",
       "  <tbody>\n",
       "    <tr>\n",
       "      <th>ASSINANTE</th>\n",
       "      <td>9.670241</td>\n",
       "      <td>11.552279</td>\n",
       "      <td>23.160858</td>\n",
       "      <td>43.729223</td>\n",
       "      <td>0.222520</td>\n",
       "      <td>25.182654</td>\n",
       "    </tr>\n",
       "    <tr>\n",
       "      <th>PROSPECT</th>\n",
       "      <td>8.522388</td>\n",
       "      <td>15.495522</td>\n",
       "      <td>38.163184</td>\n",
       "      <td>51.106468</td>\n",
       "      <td>0.260697</td>\n",
       "      <td>44.994527</td>\n",
       "    </tr>\n",
       "  </tbody>\n",
       "</table>\n",
       "</div>"
      ],
      "text/plain": [
       "           QT_TOTAL_HIT_PAYWALL  DIASNAVEGADOS  NOTICIASLIDAS  VISITAS_CAPA  \\\n",
       "PERFIL                                                                        \n",
       "ASSINANTE              9.670241      11.552279      23.160858     43.729223   \n",
       "PROSPECT               8.522388      15.495522      38.163184     51.106468   \n",
       "\n",
       "           USOU_APP      IDADE  \n",
       "PERFIL                          \n",
       "ASSINANTE  0.222520  25.182654  \n",
       "PROSPECT   0.260697  44.994527  "
      ]
     },
     "execution_count": 103,
     "metadata": {},
     "output_type": "execute_result"
    }
   ],
   "source": [
    "data_grouped = data_for_group.groupby('PERFIL').mean()\n",
    "data_grouped"
   ]
  },
  {
   "cell_type": "code",
   "execution_count": 104,
   "id": "a32b8b9b",
   "metadata": {},
   "outputs": [
    {
     "name": "stdout",
     "output_type": "stream",
     "text": [
      "Populating the interactive namespace from numpy and matplotlib\n"
     ]
    },
    {
     "data": {
      "image/png": "[encoded data removed]",
      "text/plain": [
       "<Figure size 864x432 with 1 Axes>"
      ]
     },
     "metadata": {
      "needs_background": "light"
     },
     "output_type": "display_data"
    }
   ],
   "source": [
    "# histograma para compreender a diferença entre as variáveis de uma classe para outra\n",
    "\n",
    "import matplotlib.pyplot as plt\n",
    "import numpy as np\n",
    "\n",
    "%pylab inline\n",
    "\n",
    "pylab.rcParams['figure.figsize'] = (12,6)\n",
    "caracteristicas = data_grouped.columns\n",
    "\n",
    "assinante_mean = data_grouped.loc['ASSINANTE']\n",
    "prospect_mean = data_grouped.loc['PROSPECT']\n",
    "\n",
    "relative_difference = prospect_mean / assinante_mean\n",
    "plt.bar(caracteristicas, relative_difference)\n",
    "plt.show()"
   ]
  }
 ],
 "metadata": {
  "kernelspec": {
   "display_name": "Python 3",
   "language": "python",
   "name": "python3"
  },
  "language_info": {
   "codemirror_mode": {
    "name": "ipython",
    "version": 3
   },
   "file_extension": ".py",
   "mimetype": "text/x-python",
   "name": "python",
   "nbconvert_exporter": "python",
   "pygments_lexer": "ipython3",
   "version": "3.8.12"
  }
 },
 "nbformat": 4,
 "nbformat_minor": 5
}
